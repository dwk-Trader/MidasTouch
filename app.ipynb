{
 "cells": [
  {
   "cell_type": "markdown",
   "metadata": {},
   "source": []
  },
  {
   "cell_type": "code",
   "execution_count": 1,
   "metadata": {},
   "outputs": [],
   "source": [
    "import threading\n",
    "import time\n",
    "from wrapper import IBWrapper\n",
    "from client import IBClient\n",
    "from contract import stock\n",
    "from order import limit, BUY\n",
    "\n",
    "class IBApp(IBWrapper, IBClient):\n",
    "    def __init__(self, ip, port, client_id):\n",
    "        IBWrapper.__init__(self)\n",
    "        IBClient.__init__(self, wrapper=self)\n",
    "        self.connect(ip, port,client_id)\n",
    "        thread = threading.Thread(target=self.run, daemon=True)\n",
    "        thread.start()\n",
    "        time.sleep(2)"
   ]
  },
  {
   "cell_type": "code",
   "execution_count": 2,
   "metadata": {},
   "outputs": [
    {
     "name": "stderr",
     "output_type": "stream",
     "text": [
      "ERROR -1 2104 Market data farm connection is OK:hfarm\n",
      "ERROR -1 2104 Market data farm connection is OK:usfarm.nj\n",
      "ERROR -1 2104 Market data farm connection is OK:jfarm\n",
      "ERROR -1 2104 Market data farm connection is OK:usfuture\n",
      "ERROR -1 2104 Market data farm connection is OK:cashfarm\n",
      "ERROR -1 2104 Market data farm connection is OK:eufarmnj\n",
      "ERROR -1 2104 Market data farm connection is OK:usfarm\n",
      "ERROR -1 2106 HMDS data farm connection is OK:euhmds\n",
      "ERROR -1 2106 HMDS data farm connection is OK:fundfarm\n",
      "ERROR -1 2106 HMDS data farm connection is OK:ushmds\n",
      "ERROR -1 2158 Sec-def data farm connection is OK:secdefnj\n",
      "ERROR -1 2108 Market data farm connection is inactive but should be available upon demand.hfarm\n",
      "ERROR -1 2108 Market data farm connection is inactive but should be available upon demand.hfarm\n",
      "ERROR -1 2108 Market data farm connection is inactive but should be available upon demand.jfarm\n",
      "ERROR -1 2108 Market data farm connection is inactive but should be available upon demand.jfarm\n",
      "ERROR -1 2108 Market data farm connection is inactive but should be available upon demand.usfuture\n",
      "ERROR -1 2108 Market data farm connection is inactive but should be available upon demand.usfuture\n",
      "ERROR -1 2108 Market data farm connection is inactive but should be available upon demand.eufarmnj\n",
      "ERROR -1 2108 Market data farm connection is inactive but should be available upon demand.eufarmnj\n"
     ]
    }
   ],
   "source": [
    "if __name__ == \"__main__\":\n",
    "    app = IBApp(\"127.0.0.1\", 7497, client_id=10)\n",
    "    \n",
    "    aapl = stock(\"AAPL\", \"SMART\", \"USD\")\n",
    "    \n",
    "    data = app.get_historical_data(\n",
    "        request_id=99, contract=aapl, duration=\"2 D\", bar_size=\"30 secs\"\n",
    "    )\n",
    "    \n",
    "    time.sleep(30)\n",
    "    app.disconnect()\n"
   ]
  }
 ],
 "metadata": {
  "kernelspec": {
   "display_name": "Python 3",
   "language": "python",
   "name": "python3"
  },
  "language_info": {
   "codemirror_mode": {
    "name": "ipython",
    "version": 3
   },
   "file_extension": ".py",
   "mimetype": "text/x-python",
   "name": "python",
   "nbconvert_exporter": "python",
   "pygments_lexer": "ipython3",
   "version": "3.13.0"
  }
 },
 "nbformat": 4,
 "nbformat_minor": 2
}
